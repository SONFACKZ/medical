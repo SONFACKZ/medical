{
 "cells": [
  {
   "cell_type": "markdown",
   "metadata": {},
   "source": [
    "# Random Forest for health disease prediction"
   ]
  },
  {
   "cell_type": "code",
   "execution_count": 1,
   "metadata": {},
   "outputs": [],
   "source": [
    "import pandas as pd\n",
    "import numpy as np\n",
    "import matplotlib.pyplot as plt\n",
    "%matplotlib inline\n",
    "from sklearn.ensemble import RandomForestClassifier\n",
    "from sklearn.datasets import make_classification\n",
    "from sklearn.model_selection import train_test_split"
   ]
  },
  {
   "cell_type": "code",
   "execution_count": 2,
   "metadata": {},
   "outputs": [],
   "source": [
    "data = pd.read_csv('DataSetSymptoms.csv')"
   ]
  },
  {
   "cell_type": "code",
   "execution_count": 3,
   "metadata": {},
   "outputs": [
    {
     "data": {
      "text/html": [
       "<div>\n",
       "<style scoped>\n",
       "    .dataframe tbody tr th:only-of-type {\n",
       "        vertical-align: middle;\n",
       "    }\n",
       "\n",
       "    .dataframe tbody tr th {\n",
       "        vertical-align: top;\n",
       "    }\n",
       "\n",
       "    .dataframe thead th {\n",
       "        text-align: right;\n",
       "    }\n",
       "</style>\n",
       "<table border=\"1\" class=\"dataframe\">\n",
       "  <thead>\n",
       "    <tr style=\"text-align: right;\">\n",
       "      <th></th>\n",
       "      <th>Disease</th>\n",
       "      <th>Heberden's node</th>\n",
       "      <th>Murphy's sign</th>\n",
       "      <th>Stahli's line</th>\n",
       "      <th>abdomen acute</th>\n",
       "      <th>abdomilnal pain</th>\n",
       "      <th>abdominal bloating</th>\n",
       "      <th>abdominal tenderness</th>\n",
       "      <th>abnormal sensation</th>\n",
       "      <th>abnormally hard consistency</th>\n",
       "      <th>...</th>\n",
       "      <th>vomiting</th>\n",
       "      <th>weakness</th>\n",
       "      <th>weepiness</th>\n",
       "      <th>weight gain</th>\n",
       "      <th>welt</th>\n",
       "      <th>wheelchair bound</th>\n",
       "      <th>wheezing</th>\n",
       "      <th>withdraw</th>\n",
       "      <th>worry</th>\n",
       "      <th>yellow sputum</th>\n",
       "    </tr>\n",
       "  </thead>\n",
       "  <tbody>\n",
       "    <tr>\n",
       "      <th>0</th>\n",
       "      <td>Alzheimer's disease</td>\n",
       "      <td>0</td>\n",
       "      <td>0</td>\n",
       "      <td>0</td>\n",
       "      <td>0</td>\n",
       "      <td>0</td>\n",
       "      <td>0</td>\n",
       "      <td>0</td>\n",
       "      <td>0</td>\n",
       "      <td>0</td>\n",
       "      <td>...</td>\n",
       "      <td>0</td>\n",
       "      <td>0</td>\n",
       "      <td>0</td>\n",
       "      <td>0</td>\n",
       "      <td>0</td>\n",
       "      <td>1</td>\n",
       "      <td>0</td>\n",
       "      <td>0</td>\n",
       "      <td>0</td>\n",
       "      <td>0</td>\n",
       "    </tr>\n",
       "    <tr>\n",
       "      <th>1</th>\n",
       "      <td>HIV</td>\n",
       "      <td>0</td>\n",
       "      <td>0</td>\n",
       "      <td>0</td>\n",
       "      <td>0</td>\n",
       "      <td>0</td>\n",
       "      <td>0</td>\n",
       "      <td>0</td>\n",
       "      <td>0</td>\n",
       "      <td>0</td>\n",
       "      <td>...</td>\n",
       "      <td>0</td>\n",
       "      <td>0</td>\n",
       "      <td>0</td>\n",
       "      <td>0</td>\n",
       "      <td>0</td>\n",
       "      <td>0</td>\n",
       "      <td>0</td>\n",
       "      <td>0</td>\n",
       "      <td>0</td>\n",
       "      <td>0</td>\n",
       "    </tr>\n",
       "    <tr>\n",
       "      <th>2</th>\n",
       "      <td>Pneumocystis carinii pneumonia</td>\n",
       "      <td>0</td>\n",
       "      <td>0</td>\n",
       "      <td>0</td>\n",
       "      <td>0</td>\n",
       "      <td>0</td>\n",
       "      <td>0</td>\n",
       "      <td>0</td>\n",
       "      <td>0</td>\n",
       "      <td>0</td>\n",
       "      <td>...</td>\n",
       "      <td>0</td>\n",
       "      <td>0</td>\n",
       "      <td>0</td>\n",
       "      <td>0</td>\n",
       "      <td>0</td>\n",
       "      <td>0</td>\n",
       "      <td>0</td>\n",
       "      <td>0</td>\n",
       "      <td>0</td>\n",
       "      <td>1</td>\n",
       "    </tr>\n",
       "    <tr>\n",
       "      <th>3</th>\n",
       "      <td>accident cerebrovascular</td>\n",
       "      <td>0</td>\n",
       "      <td>0</td>\n",
       "      <td>0</td>\n",
       "      <td>0</td>\n",
       "      <td>0</td>\n",
       "      <td>0</td>\n",
       "      <td>0</td>\n",
       "      <td>0</td>\n",
       "      <td>0</td>\n",
       "      <td>...</td>\n",
       "      <td>0</td>\n",
       "      <td>0</td>\n",
       "      <td>0</td>\n",
       "      <td>0</td>\n",
       "      <td>0</td>\n",
       "      <td>0</td>\n",
       "      <td>0</td>\n",
       "      <td>0</td>\n",
       "      <td>0</td>\n",
       "      <td>0</td>\n",
       "    </tr>\n",
       "    <tr>\n",
       "      <th>4</th>\n",
       "      <td>acquired immuno-deficiency syndrome</td>\n",
       "      <td>0</td>\n",
       "      <td>0</td>\n",
       "      <td>0</td>\n",
       "      <td>0</td>\n",
       "      <td>0</td>\n",
       "      <td>0</td>\n",
       "      <td>0</td>\n",
       "      <td>0</td>\n",
       "      <td>0</td>\n",
       "      <td>...</td>\n",
       "      <td>0</td>\n",
       "      <td>0</td>\n",
       "      <td>0</td>\n",
       "      <td>0</td>\n",
       "      <td>0</td>\n",
       "      <td>0</td>\n",
       "      <td>0</td>\n",
       "      <td>0</td>\n",
       "      <td>0</td>\n",
       "      <td>0</td>\n",
       "    </tr>\n",
       "  </tbody>\n",
       "</table>\n",
       "<p>5 rows × 411 columns</p>\n",
       "</div>"
      ],
      "text/plain": [
       "                               Disease  Heberden's node  Murphy's sign  \\\n",
       "0                  Alzheimer's disease                0              0   \n",
       "1                                  HIV                0              0   \n",
       "2       Pneumocystis carinii pneumonia                0              0   \n",
       "3             accident cerebrovascular                0              0   \n",
       "4  acquired immuno-deficiency syndrome                0              0   \n",
       "\n",
       "   Stahli's line  abdomen acute  abdomilnal pain  abdominal bloating  \\\n",
       "0              0              0                0                   0   \n",
       "1              0              0                0                   0   \n",
       "2              0              0                0                   0   \n",
       "3              0              0                0                   0   \n",
       "4              0              0                0                   0   \n",
       "\n",
       "   abdominal tenderness  abnormal sensation  abnormally hard consistency  ...  \\\n",
       "0                     0                   0                            0  ...   \n",
       "1                     0                   0                            0  ...   \n",
       "2                     0                   0                            0  ...   \n",
       "3                     0                   0                            0  ...   \n",
       "4                     0                   0                            0  ...   \n",
       "\n",
       "   vomiting  weakness  weepiness  weight gain  welt  wheelchair bound  \\\n",
       "0         0         0          0            0     0                 1   \n",
       "1         0         0          0            0     0                 0   \n",
       "2         0         0          0            0     0                 0   \n",
       "3         0         0          0            0     0                 0   \n",
       "4         0         0          0            0     0                 0   \n",
       "\n",
       "   wheezing  withdraw  worry  yellow sputum  \n",
       "0         0         0      0              0  \n",
       "1         0         0      0              0  \n",
       "2         0         0      0              1  \n",
       "3         0         0      0              0  \n",
       "4         0         0      0              0  \n",
       "\n",
       "[5 rows x 411 columns]"
      ]
     },
     "execution_count": 3,
     "metadata": {},
     "output_type": "execute_result"
    }
   ],
   "source": [
    "data.head()"
   ]
  },
  {
   "cell_type": "code",
   "execution_count": 4,
   "metadata": {},
   "outputs": [
    {
     "data": {
      "text/plain": [
       "Index(['Disease', 'Heberden's node', 'Murphy's sign', 'Stahli's line',\n",
       "       'abdomen acute', 'abdomilnal pain', 'abdominal bloating',\n",
       "       'abdominal tenderness', 'abnormal sensation',\n",
       "       'abnormally hard consistency',\n",
       "       ...\n",
       "       'vomiting', 'weakness', 'weepiness', 'weight gain', 'welt',\n",
       "       'wheelchair bound', 'wheezing', 'withdraw', 'worry', 'yellow sputum'],\n",
       "      dtype='object', length=411)"
      ]
     },
     "execution_count": 4,
     "metadata": {},
     "output_type": "execute_result"
    }
   ],
   "source": [
    "data.columns"
   ]
  },
  {
   "cell_type": "code",
   "execution_count": 5,
   "metadata": {},
   "outputs": [
    {
     "data": {
      "text/plain": [
       "411"
      ]
     },
     "execution_count": 5,
     "metadata": {},
     "output_type": "execute_result"
    }
   ],
   "source": [
    "len(data.columns)"
   ]
  },
  {
   "cell_type": "code",
   "execution_count": 6,
   "metadata": {},
   "outputs": [
    {
     "data": {
      "text/plain": [
       "150"
      ]
     },
     "execution_count": 6,
     "metadata": {},
     "output_type": "execute_result"
    }
   ],
   "source": [
    "#Ensure we don't have duplicated symptoms\n",
    "len(data['Disease'].unique())"
   ]
  },
  {
   "cell_type": "code",
   "execution_count": 7,
   "metadata": {},
   "outputs": [],
   "source": [
    "#DataFrame\n",
    "df = pd.DataFrame(data)"
   ]
  },
  {
   "cell_type": "code",
   "execution_count": 8,
   "metadata": {},
   "outputs": [
    {
     "data": {
      "text/html": [
       "<div>\n",
       "<style scoped>\n",
       "    .dataframe tbody tr th:only-of-type {\n",
       "        vertical-align: middle;\n",
       "    }\n",
       "\n",
       "    .dataframe tbody tr th {\n",
       "        vertical-align: top;\n",
       "    }\n",
       "\n",
       "    .dataframe thead th {\n",
       "        text-align: right;\n",
       "    }\n",
       "</style>\n",
       "<table border=\"1\" class=\"dataframe\">\n",
       "  <thead>\n",
       "    <tr style=\"text-align: right;\">\n",
       "      <th></th>\n",
       "      <th>Disease</th>\n",
       "      <th>Heberden's node</th>\n",
       "      <th>Murphy's sign</th>\n",
       "      <th>Stahli's line</th>\n",
       "      <th>abdomen acute</th>\n",
       "      <th>abdomilnal pain</th>\n",
       "      <th>abdominal bloating</th>\n",
       "      <th>abdominal tenderness</th>\n",
       "      <th>abnormal sensation</th>\n",
       "      <th>abnormally hard consistency</th>\n",
       "      <th>...</th>\n",
       "      <th>vomiting</th>\n",
       "      <th>weakness</th>\n",
       "      <th>weepiness</th>\n",
       "      <th>weight gain</th>\n",
       "      <th>welt</th>\n",
       "      <th>wheelchair bound</th>\n",
       "      <th>wheezing</th>\n",
       "      <th>withdraw</th>\n",
       "      <th>worry</th>\n",
       "      <th>yellow sputum</th>\n",
       "    </tr>\n",
       "  </thead>\n",
       "  <tbody>\n",
       "    <tr>\n",
       "      <th>0</th>\n",
       "      <td>Alzheimer's disease</td>\n",
       "      <td>0</td>\n",
       "      <td>0</td>\n",
       "      <td>0</td>\n",
       "      <td>0</td>\n",
       "      <td>0</td>\n",
       "      <td>0</td>\n",
       "      <td>0</td>\n",
       "      <td>0</td>\n",
       "      <td>0</td>\n",
       "      <td>...</td>\n",
       "      <td>0</td>\n",
       "      <td>0</td>\n",
       "      <td>0</td>\n",
       "      <td>0</td>\n",
       "      <td>0</td>\n",
       "      <td>1</td>\n",
       "      <td>0</td>\n",
       "      <td>0</td>\n",
       "      <td>0</td>\n",
       "      <td>0</td>\n",
       "    </tr>\n",
       "    <tr>\n",
       "      <th>1</th>\n",
       "      <td>HIV</td>\n",
       "      <td>0</td>\n",
       "      <td>0</td>\n",
       "      <td>0</td>\n",
       "      <td>0</td>\n",
       "      <td>0</td>\n",
       "      <td>0</td>\n",
       "      <td>0</td>\n",
       "      <td>0</td>\n",
       "      <td>0</td>\n",
       "      <td>...</td>\n",
       "      <td>0</td>\n",
       "      <td>0</td>\n",
       "      <td>0</td>\n",
       "      <td>0</td>\n",
       "      <td>0</td>\n",
       "      <td>0</td>\n",
       "      <td>0</td>\n",
       "      <td>0</td>\n",
       "      <td>0</td>\n",
       "      <td>0</td>\n",
       "    </tr>\n",
       "    <tr>\n",
       "      <th>2</th>\n",
       "      <td>Pneumocystis carinii pneumonia</td>\n",
       "      <td>0</td>\n",
       "      <td>0</td>\n",
       "      <td>0</td>\n",
       "      <td>0</td>\n",
       "      <td>0</td>\n",
       "      <td>0</td>\n",
       "      <td>0</td>\n",
       "      <td>0</td>\n",
       "      <td>0</td>\n",
       "      <td>...</td>\n",
       "      <td>0</td>\n",
       "      <td>0</td>\n",
       "      <td>0</td>\n",
       "      <td>0</td>\n",
       "      <td>0</td>\n",
       "      <td>0</td>\n",
       "      <td>0</td>\n",
       "      <td>0</td>\n",
       "      <td>0</td>\n",
       "      <td>1</td>\n",
       "    </tr>\n",
       "    <tr>\n",
       "      <th>3</th>\n",
       "      <td>accident cerebrovascular</td>\n",
       "      <td>0</td>\n",
       "      <td>0</td>\n",
       "      <td>0</td>\n",
       "      <td>0</td>\n",
       "      <td>0</td>\n",
       "      <td>0</td>\n",
       "      <td>0</td>\n",
       "      <td>0</td>\n",
       "      <td>0</td>\n",
       "      <td>...</td>\n",
       "      <td>0</td>\n",
       "      <td>0</td>\n",
       "      <td>0</td>\n",
       "      <td>0</td>\n",
       "      <td>0</td>\n",
       "      <td>0</td>\n",
       "      <td>0</td>\n",
       "      <td>0</td>\n",
       "      <td>0</td>\n",
       "      <td>0</td>\n",
       "    </tr>\n",
       "    <tr>\n",
       "      <th>4</th>\n",
       "      <td>acquired immuno-deficiency syndrome</td>\n",
       "      <td>0</td>\n",
       "      <td>0</td>\n",
       "      <td>0</td>\n",
       "      <td>0</td>\n",
       "      <td>0</td>\n",
       "      <td>0</td>\n",
       "      <td>0</td>\n",
       "      <td>0</td>\n",
       "      <td>0</td>\n",
       "      <td>...</td>\n",
       "      <td>0</td>\n",
       "      <td>0</td>\n",
       "      <td>0</td>\n",
       "      <td>0</td>\n",
       "      <td>0</td>\n",
       "      <td>0</td>\n",
       "      <td>0</td>\n",
       "      <td>0</td>\n",
       "      <td>0</td>\n",
       "      <td>0</td>\n",
       "    </tr>\n",
       "    <tr>\n",
       "      <th>5</th>\n",
       "      <td>adenocarcinoma</td>\n",
       "      <td>0</td>\n",
       "      <td>0</td>\n",
       "      <td>0</td>\n",
       "      <td>0</td>\n",
       "      <td>0</td>\n",
       "      <td>0</td>\n",
       "      <td>0</td>\n",
       "      <td>0</td>\n",
       "      <td>0</td>\n",
       "      <td>...</td>\n",
       "      <td>0</td>\n",
       "      <td>0</td>\n",
       "      <td>0</td>\n",
       "      <td>0</td>\n",
       "      <td>0</td>\n",
       "      <td>0</td>\n",
       "      <td>0</td>\n",
       "      <td>0</td>\n",
       "      <td>0</td>\n",
       "      <td>0</td>\n",
       "    </tr>\n",
       "    <tr>\n",
       "      <th>6</th>\n",
       "      <td>adhesion</td>\n",
       "      <td>0</td>\n",
       "      <td>0</td>\n",
       "      <td>0</td>\n",
       "      <td>0</td>\n",
       "      <td>0</td>\n",
       "      <td>0</td>\n",
       "      <td>0</td>\n",
       "      <td>0</td>\n",
       "      <td>0</td>\n",
       "      <td>...</td>\n",
       "      <td>1</td>\n",
       "      <td>0</td>\n",
       "      <td>0</td>\n",
       "      <td>0</td>\n",
       "      <td>0</td>\n",
       "      <td>0</td>\n",
       "      <td>0</td>\n",
       "      <td>0</td>\n",
       "      <td>0</td>\n",
       "      <td>0</td>\n",
       "    </tr>\n",
       "    <tr>\n",
       "      <th>7</th>\n",
       "      <td>affect labile</td>\n",
       "      <td>0</td>\n",
       "      <td>0</td>\n",
       "      <td>0</td>\n",
       "      <td>0</td>\n",
       "      <td>0</td>\n",
       "      <td>0</td>\n",
       "      <td>0</td>\n",
       "      <td>0</td>\n",
       "      <td>0</td>\n",
       "      <td>...</td>\n",
       "      <td>0</td>\n",
       "      <td>0</td>\n",
       "      <td>0</td>\n",
       "      <td>0</td>\n",
       "      <td>0</td>\n",
       "      <td>0</td>\n",
       "      <td>0</td>\n",
       "      <td>0</td>\n",
       "      <td>0</td>\n",
       "      <td>0</td>\n",
       "    </tr>\n",
       "    <tr>\n",
       "      <th>8</th>\n",
       "      <td>anemia</td>\n",
       "      <td>0</td>\n",
       "      <td>0</td>\n",
       "      <td>0</td>\n",
       "      <td>0</td>\n",
       "      <td>0</td>\n",
       "      <td>0</td>\n",
       "      <td>0</td>\n",
       "      <td>0</td>\n",
       "      <td>0</td>\n",
       "      <td>...</td>\n",
       "      <td>0</td>\n",
       "      <td>0</td>\n",
       "      <td>0</td>\n",
       "      <td>0</td>\n",
       "      <td>0</td>\n",
       "      <td>0</td>\n",
       "      <td>0</td>\n",
       "      <td>0</td>\n",
       "      <td>0</td>\n",
       "      <td>0</td>\n",
       "    </tr>\n",
       "    <tr>\n",
       "      <th>9</th>\n",
       "      <td>anxiety state</td>\n",
       "      <td>0</td>\n",
       "      <td>0</td>\n",
       "      <td>0</td>\n",
       "      <td>0</td>\n",
       "      <td>0</td>\n",
       "      <td>0</td>\n",
       "      <td>0</td>\n",
       "      <td>0</td>\n",
       "      <td>0</td>\n",
       "      <td>...</td>\n",
       "      <td>0</td>\n",
       "      <td>0</td>\n",
       "      <td>1</td>\n",
       "      <td>0</td>\n",
       "      <td>0</td>\n",
       "      <td>0</td>\n",
       "      <td>0</td>\n",
       "      <td>0</td>\n",
       "      <td>1</td>\n",
       "      <td>0</td>\n",
       "    </tr>\n",
       "  </tbody>\n",
       "</table>\n",
       "<p>10 rows × 411 columns</p>\n",
       "</div>"
      ],
      "text/plain": [
       "                               Disease  Heberden's node  Murphy's sign  \\\n",
       "0                  Alzheimer's disease                0              0   \n",
       "1                                  HIV                0              0   \n",
       "2       Pneumocystis carinii pneumonia                0              0   \n",
       "3             accident cerebrovascular                0              0   \n",
       "4  acquired immuno-deficiency syndrome                0              0   \n",
       "5                       adenocarcinoma                0              0   \n",
       "6                             adhesion                0              0   \n",
       "7                        affect labile                0              0   \n",
       "8                               anemia                0              0   \n",
       "9                        anxiety state                0              0   \n",
       "\n",
       "   Stahli's line  abdomen acute  abdomilnal pain  abdominal bloating  \\\n",
       "0              0              0                0                   0   \n",
       "1              0              0                0                   0   \n",
       "2              0              0                0                   0   \n",
       "3              0              0                0                   0   \n",
       "4              0              0                0                   0   \n",
       "5              0              0                0                   0   \n",
       "6              0              0                0                   0   \n",
       "7              0              0                0                   0   \n",
       "8              0              0                0                   0   \n",
       "9              0              0                0                   0   \n",
       "\n",
       "   abdominal tenderness  abnormal sensation  abnormally hard consistency  ...  \\\n",
       "0                     0                   0                            0  ...   \n",
       "1                     0                   0                            0  ...   \n",
       "2                     0                   0                            0  ...   \n",
       "3                     0                   0                            0  ...   \n",
       "4                     0                   0                            0  ...   \n",
       "5                     0                   0                            0  ...   \n",
       "6                     0                   0                            0  ...   \n",
       "7                     0                   0                            0  ...   \n",
       "8                     0                   0                            0  ...   \n",
       "9                     0                   0                            0  ...   \n",
       "\n",
       "   vomiting  weakness  weepiness  weight gain  welt  wheelchair bound  \\\n",
       "0         0         0          0            0     0                 1   \n",
       "1         0         0          0            0     0                 0   \n",
       "2         0         0          0            0     0                 0   \n",
       "3         0         0          0            0     0                 0   \n",
       "4         0         0          0            0     0                 0   \n",
       "5         0         0          0            0     0                 0   \n",
       "6         1         0          0            0     0                 0   \n",
       "7         0         0          0            0     0                 0   \n",
       "8         0         0          0            0     0                 0   \n",
       "9         0         0          1            0     0                 0   \n",
       "\n",
       "   wheezing  withdraw  worry  yellow sputum  \n",
       "0         0         0      0              0  \n",
       "1         0         0      0              0  \n",
       "2         0         0      0              1  \n",
       "3         0         0      0              0  \n",
       "4         0         0      0              0  \n",
       "5         0         0      0              0  \n",
       "6         0         0      0              0  \n",
       "7         0         0      0              0  \n",
       "8         0         0      0              0  \n",
       "9         0         0      1              0  \n",
       "\n",
       "[10 rows x 411 columns]"
      ]
     },
     "execution_count": 8,
     "metadata": {},
     "output_type": "execute_result"
    }
   ],
   "source": [
    "df.head(10)"
   ]
  },
  {
   "cell_type": "code",
   "execution_count": 9,
   "metadata": {},
   "outputs": [
    {
     "data": {
      "text/plain": [
       "150"
      ]
     },
     "execution_count": 9,
     "metadata": {},
     "output_type": "execute_result"
    }
   ],
   "source": [
    "len(df)"
   ]
  },
  {
   "cell_type": "code",
   "execution_count": 10,
   "metadata": {},
   "outputs": [],
   "source": [
    "cols = df.columns"
   ]
  },
  {
   "cell_type": "code",
   "execution_count": 11,
   "metadata": {},
   "outputs": [],
   "source": [
    "#Extracting the symptoms excluding the target disease\n",
    "cols = cols[1:]"
   ]
  },
  {
   "cell_type": "code",
   "execution_count": 12,
   "metadata": {},
   "outputs": [
    {
     "data": {
      "text/plain": [
       "Index(['Heberden's node', 'Murphy's sign', 'Stahli's line', 'abdomen acute',\n",
       "       'abdomilnal pain', 'abdominal bloating', 'abdominal tenderness',\n",
       "       'abnormal sensation', 'abnormally hard consistency', 'abortion',\n",
       "       ...\n",
       "       'vomiting', 'weakness', 'weepiness', 'weight gain', 'welt',\n",
       "       'wheelchair bound', 'wheezing', 'withdraw', 'worry', 'yellow sputum'],\n",
       "      dtype='object', length=410)"
      ]
     },
     "execution_count": 12,
     "metadata": {},
     "output_type": "execute_result"
    }
   ],
   "source": [
    "#Displaying the symptoms\n",
    "cols"
   ]
  },
  {
   "cell_type": "code",
   "execution_count": 13,
   "metadata": {},
   "outputs": [
    {
     "data": {
      "text/plain": [
       "410"
      ]
     },
     "execution_count": 13,
     "metadata": {},
     "output_type": "execute_result"
    }
   ],
   "source": [
    "len(cols)"
   ]
  },
  {
   "cell_type": "code",
   "execution_count": 37,
   "metadata": {},
   "outputs": [],
   "source": [
    "#Divide attributes and target X = attributes, y = targets\n",
    "X = df[cols]\n",
    "y = df['Disease']"
   ]
  },
  {
   "cell_type": "code",
   "execution_count": 38,
   "metadata": {},
   "outputs": [],
   "source": [
    "from sklearn.model_selection import train_test_split\n",
    "# Split dataset into training set and test set\n",
    "X_train, X_test, y_train, y_test = train_test_split(X, y, test_size=0.3, random_state=66) # 70% training and 30% test"
   ]
  },
  {
   "cell_type": "code",
   "execution_count": 40,
   "metadata": {},
   "outputs": [
    {
     "name": "stdout",
     "output_type": "stream",
     "text": [
      "Accuracy: 0.9555555555555556\n"
     ]
    }
   ],
   "source": [
    "from sklearn import metrics\n",
    "clf = RandomForestClassifier(n_estimators=100)\n",
    "clf_rf = clf.fit(X, y)\n",
    "# Model Accuracy, how often is the classifier correct?\n",
    "print(\"Accuracy:\",metrics.accuracy_score(y_test, clf.predict(X_test)))"
   ]
  },
  {
   "cell_type": "code",
   "execution_count": 50,
   "metadata": {},
   "outputs": [],
   "source": [
    "income = [0, 0, 0, 0, 0, 0, 0, 0, 0, 0, 0, 0, 0, 0, 0, 0, 0, 0, 0, 0, 0, 0, 1, 0, 0, 0, 1,\n",
    "                              0, 0, 0, 0, 0, 0, 0, 0, 0, 0, 0, 0, 0, 0, 0, 0, 0, 0, 0, 0, 0, 0, 0, 0, 0, 0, 0, \n",
    "                              0, 0, 0, 0, 0, 0, 0, 1, 0, 0, 0, 0, 0, 0, 0, 0, 0, 0, 1, 0, 0, 0, 0, 0, 0, 0, 0, \n",
    "                              0, 1, 0, 0, 0, 0, 0, 0, 0, 0, 0, 0, 0, 0, 0, 0, 0, 0, 0, 0, 0, 0, 0, 0, 0, 0, 0, \n",
    "                              0, 0, 0, 0, 0, 0, 0, 0, 1, 0, 0, 0, 0, 0, 0, 0, 1, 0, 0, 0, 0, 0, 0, 0, 0, 0, 0, \n",
    "                              0, 0, 0, 0, 0, 0, 0, 0, 0, 0, 0, 0, 0, 0, 0, 0, 0, 0, 1, 0, 0, 0, 0, 0, 0, 0, 0, \n",
    "                              0, 0, 0, 0, 0, 0, 0, 0, 0, 0, 0, 0, 0, 0, 0, 0, 0, 0, 0, 0, 0, 0, 0, 0, 0, 0, 0, \n",
    "                              0, 0, 0, 0, 0, 0, 0, 0, 0, 0, 0, 0, 0, 0, 0, 0, 0, 0, 0, 0, 0, 0, 0, 0, 0, 0, 0, \n",
    "                              0, 0, 1, 0, 0, 0, 0, 0, 0, 0, 0, 0, 0, 0, 0, 0, 1, 0, 1, 0, 0, 0, 0, 1, 0, 0, 0, \n",
    "                              0, 0, 0, 0, 0, 0, 0, 0, 0, 0, 0, 0, 0, 0, 0, 0, 0, 0, 0, 0, 0, 0, 0, 0, 0, 0, 0, \n",
    "                              0, 0, 0, 0, 0, 0, 0, 0, 0, 0, 0, 0, 0, 0, 0, 0, 0, 0, 0, 0, 0, 0, 0, 0, 0, 0, 0, \n",
    "                              0, 0, 0, 0, 0, 0, 0, 0, 0, 0, 0, 0, 0, 0, 0, 0, 0, 0, 0, 0, 0, 0, 0, 0, 0, 0, 0, \n",
    "                              0, 0, 0, 0, 0, 0, 0, 0, 0, 0, 0, 0, 0, 0, 0, 0, 0, 0, 0, 0, 0, 0, 0, 0, 0, 0, 0, \n",
    "                              0, 0, 0, 0, 0, 0, 0, 0, 0, 0, 0, 0, 0, 0, 0, 0, 0, 0, 0, 0, 0, 0, 0, 0, 0, 0, 0, \n",
    "                              0, 0, 0, 0, 0, 0, 0, 0, 0, 0, 0, 0, 0, 0, 0, 0, 0, 0, 0, 0, 0, 0, 1, 0, 0, 0, 0, \n",
    "                              0, 0, 0, 0, 0]"
   ]
  },
  {
   "cell_type": "code",
   "execution_count": 51,
   "metadata": {},
   "outputs": [],
   "source": [
    "prediction = clf_rf.predict([income])"
   ]
  },
  {
   "cell_type": "code",
   "execution_count": 54,
   "metadata": {},
   "outputs": [
    {
     "data": {
      "text/plain": [
       "str"
      ]
     },
     "execution_count": 54,
     "metadata": {},
     "output_type": "execute_result"
    }
   ],
   "source": [
    "type(prediction[0])"
   ]
  },
  {
   "cell_type": "code",
   "execution_count": 52,
   "metadata": {},
   "outputs": [
    {
     "name": "stdout",
     "output_type": "stream",
     "text": [
      "You may have malaria Disease\n"
     ]
    }
   ],
   "source": [
    "print('You may have '+ prediction[0]+ ' Disease')"
   ]
  },
  {
   "cell_type": "code",
   "execution_count": 20,
   "metadata": {},
   "outputs": [],
   "source": [
    "initial_val = [0, 0, 0, 0, 0, 0, 0, 0, 0, 0, 0, 0, 0, 0, 0, 0, 0, 0, 0, 0, 0, 0, 0, 0, 0, 0, 0,\n",
    "               0, 0, 0, 0, 0, 0, 0, 0, 0, 0, 0, 0, 0, 0, 0, 0, 0, 0, 0, 0, 0, 0, 0, 0, 0, 0, 0, \n",
    "               0, 0, 0, 0, 0, 0, 0, 0, 0, 0, 0, 0, 0, 0, 0, 0, 0, 0, 0, 0, 0, 0, 0, 0, 0, 0, 0, \n",
    "               0, 0, 0, 0, 0, 0, 0, 0, 0, 0, 0, 0, 0, 0, 0, 0, 0, 0, 0, 0, 0, 0, 0, 0, 0, 0, 0, \n",
    "               0, 0, 0, 0, 0, 0, 0, 0, 0, 0, 0, 0, 0, 0, 0, 0, 0, 0, 0, 0, 0, 0, 0, 0, 0, 0, 0, \n",
    "               0, 0, 0, 0, 0, 0, 0, 0, 0, 0, 0, 0, 0, 0, 0, 0, 0, 0, 0, 0, 0, 0, 0, 0, 0, 0, 0, \n",
    "               0, 0, 0, 0, 0, 0, 0, 0, 0, 0, 0, 0, 0, 0, 0, 0, 0, 0, 0, 0, 0, 0, 0, 0, 0, 0, 0, \n",
    "               0, 0, 0, 0, 0, 0, 0, 0, 0, 0, 0, 0, 0, 0, 0, 0, 0, 0, 0, 0, 0, 0, 0, 0, 0, 0, 0, \n",
    "               0, 0, 0, 0, 0, 0, 0, 0, 0, 0, 0, 0, 0, 0, 0, 0, 0, 0, 0, 0, 0, 0, 0, 0, 0, 0, 0, \n",
    "               0, 0, 0, 0, 0, 0, 0, 0, 0, 0, 0, 0, 0, 0, 0, 0, 0, 0, 0, 0, 0, 0, 0, 0, 0, 0, 0, \n",
    "               0, 0, 0, 0, 0, 0, 0, 0, 0, 0, 0, 0, 0, 0, 0, 0, 0, 0, 0, 0, 0, 0, 0, 0, 0, 0, 0, \n",
    "               0, 0, 0, 0, 0, 0, 0, 0, 0, 0, 0, 0, 0, 0, 0, 0, 0, 0, 0, 0, 0, 0, 0, 0, 0, 0, 0, \n",
    "               0, 0, 0, 0, 0, 0, 0, 0, 0, 0, 0, 0, 0, 0, 0, 0, 0, 0, 0, 0, 0, 0, 0, 0, 0, 0, 0, \n",
    "               0, 0, 0, 0, 0, 0, 0, 0, 0, 0, 0, 0, 0, 0, 0, 0, 0, 0, 0, 0, 0, 0, 0, 0, 0, 0, 0, \n",
    "               0, 0, 0, 0, 0, 0, 0, 0, 0, 0, 0, 0, 0, 0, 0, 0, 0, 0, 0, 0, 0, 0, 0, 0, 0, 0, 0, \n",
    "               0, 0, 0, 0, 0]"
   ]
  },
  {
   "cell_type": "code",
   "execution_count": 21,
   "metadata": {},
   "outputs": [
    {
     "data": {
      "text/plain": [
       "list"
      ]
     },
     "execution_count": 21,
     "metadata": {},
     "output_type": "execute_result"
    }
   ],
   "source": [
    "type(initial_val)"
   ]
  },
  {
   "cell_type": "code",
   "execution_count": 22,
   "metadata": {},
   "outputs": [],
   "source": [
    "symptoms_list = [\"Heberden's node\", \"Murphy's sign\", \"Stahli's line\", \"abdomen acute\", \"abdomilnal pain\", \n",
    "                 \"abdominal bloating\", \"abdominal tenderness\", \"abnormal sensation\", \"abnormally hard consistency\", \n",
    "                 \"abortion\", \"abscess bacterial\", \"absences finding\", \"achalasia\", \"ache\", \"adverse effect\", \n",
    "                 \"adverse reaction\", \"agitation\", \"air fluid level\", \"alcohol binge episode\", \n",
    "                 \"alcoholic withdrawal symptoms\", \"ambidexterity\", \"angina pectoris\", \"anorexia\", \"anosmia\", \n",
    "                 \"aphagia\", \"apyrexial\", \"arthralgia\", \"ascites\", \"asterixis\", \"asthenia\", \"asymptomatic\", \n",
    "                 \"ataxia\", \"atypia\", \"aura\", \"awakening early\", \"barking cough\", \"bedridden\", \n",
    "                 \"behavior hyperactive\", \"behavior showing increased motor activity\", \"blackout\", \"blanch\", \n",
    "                 \"bleeding of vagina\", \"bowel sounds decreased\", \"bradycardia\", \"bradykinesia\", \n",
    "                 \"breakthrough pain\", \"breath sounds decreased\", \"breath-holding spell\", \"breech presentation\", \n",
    "                 \"bruit\", \"burning sensation\", \"cachexia\", \"cardiomegaly\", \"cardiovascular event\", \n",
    "                 \"cardiovascular finding\", \"catatonia\", \"catching breath\", \"charleyhorse\", \n",
    "                 \"chest discomfort\", \"chest tightness\", \"chill\", \"chills\", \"choke\", \n",
    "                 \"cicatrisation\", \"clammy skin\", \"claudication\", \"clonus\", \"clumsiness\", \n",
    "                 \"colic abdominal\", \"consciousness clear\", \"constipation\", \"coordination abnormal\", \n",
    "                 \"cough\", \"cushingoid facies\", \"cushingoid habitus\", \"cyanosis\", \"cystic lesion\", \n",
    "                 \"debilitation\", \"decompensation\", \"decreased body weight\", \"decreased stool caliber\", \n",
    "                 \"decreased translucency\", \"diarrhea\", \"difficulty\", \"difficulty passing urine\", \"disequilibrium\", \n",
    "                 \"distended abdomen\", \"distress respiratory\", \"disturbed family\", \"dizziness\", \"dizzy spells\", \n",
    "                 \"drool\", \"drowsiness\", \"dullness\", \"dysarthria\", \"dysdiadochokinesia\", \"dysesthesia\", \n",
    "                 \"dyspareunia\", \"dyspnea\", \"dyspnea on exertion\", \"dysuria\", \"ecchymosis\", \"egophony\", \"elation\", \n",
    "                 \"emphysematous change\", \"energy increased\", \"enuresis\", \"erythema\", \"estrogen use\", \n",
    "                 \"excruciating pain\", \"exhaustion\", \"extrapyramidal sign\", \"extreme exhaustion\", \"facial paresis\", \n",
    "                 \"fall\", \"fatigability\", \"fatigue\", \"fear of falling\", \"fecaluria\", \"feces in rectum\", \n",
    "                 \"feeling hopeless\", \"feeling strange\", \"feeling suicidal\", \"feels hot/feverish\", \"fever\", \"flare\", \n",
    "                 \"flatulence\", \"floppy\", \"flushing\", \"focal seizures\", \"food intolerance\", \"formication\", \"frail\", \n",
    "                 \"fremitus\", \"frothy sputum\", \"gag\", \"gasping for breath\", \"general discomfort\", \n",
    "                 \"general unsteadiness\", \"giddy mood\", \"gravida 0\", \"gravida 10\", \"green sputum\", \"groggy\", \n",
    "                 \"guaiac positive\", \"gurgle\", \"hacking cough\", \"haemoptysis\", \"haemorrhage\", \n",
    "                 \"hallucinations auditory\", \"hallucinations visual\", \"has religious belief\", \"headache\", \n",
    "                 \"headaches\", \"heartburn\", \"heavy feeling\", \"heavy legs\", \"hematochezia\", \"hematocrit decreased\", \n",
    "                 \"hematuria\", \"heme positive\", \"hemianopsia homonymous\", \"hemiplegia\", \"hemodynamically stable\", \n",
    "                 \"hepatomegaly\", \"hepatosplenomegaly\", \"hirsutism\", \"history of - blackout\", \"hoard\", \"hoarseness\", \n",
    "                 \"homelessness\", \"homicidal thoughts\", \"hot flush\", \"hunger\", \"hydropneumothorax\", \"hyperacusis\", \n",
    "                 \"hypercapnia\", \"hyperemesis\", \"hyperhidrosis disorder\", \"hyperkalemia\", \"hypersomnia\", \n",
    "                 \"hypersomnolence\", \"hypertonicity\", \"hyperventilation\", \"hypesthesia\", \"hypoalbuminemia\", \n",
    "                 \"hypocalcemia result\", \"hypokalemia\", \"hypokinesia\", \"hypometabolism\", \"hyponatremia\", \n",
    "                 \"hypoproteinemia\", \"hypotension\", \"natural hypothermia\", \"hypotonic\", \"hypoxemia\", \n",
    "                 \"immobile\", \"impaired cognition\", \"inappropriate affect\", \"incoherent\", \"indifferent mood\", \n",
    "                 \"intermenstrual heavy bleeding\", \"intoxication\", \"irritable mood\", \"jugular venous distention\", \n",
    "                 \"labored breathing\", \"lameness\", \"large-for-dates fetus\", \"left atrial hypertrophy\", \"lesion\", \n",
    "                 \"lethargy\", \"lightheadedness\", \"lip smacking\", \"loose associations\", \"low back pain\", \n",
    "                 \"lung nodule\", \"macerated skin\", \"macule\", \"malaise\", \"mass in breast\", \"mass of body structure\", \n",
    "                 \"mediastinal shift\", \"mental status changes\", \"metastatic lesion\", \"milky\", \"moan\", \"monoclonal\", \n",
    "                 \"monocytosis\", \"mood depressed\", \"moody\", \"motor retardation\", \"muscle hypotonia\", \"muscle pain\", \n",
    "                 \"muscle twitch\", \"myalgia\", \"mydriasis\", \"myoclonus\", \"nasal discharge present\", \"nasal flaring\", \n",
    "                 \"nausea\", \"nausea and vomiting\", \"neck stiffness\", \"neologism\", \"nervousness\", \"night sweat\", \n",
    "                 \"nightmare\", \"no known drug allergies\", \"no status change\", \"noisy respiration\", \n",
    "                 \"non-productive cough\", \"nonsmoker\", \"numbness\", \"numbness of hand\", \"oliguria\", \"orthopnea\", \n",
    "                 \"orthostasis\", \"out of breath\", \"overweight\", \"pain\", \"pain abdominal\", \"pain back\", \"pain chest\", \n",
    "                 \"pain foot\", \"pain in lower limb\", \"pain neck\", \"painful swallowing\", \"pallor\", \"palpitation\", \n",
    "                 \"panic\", \"pansystolic murmur\", \"para 1\", \"para 2\", \"paralyse\", \"paraparesis\", \"paresis\", \n",
    "                 \"paresthesia\", \"passed stones\", \"patient non compliance\", \"pericardial friction rub\", \n",
    "                 \"phonophobia\", \"photophobia\", \"photopsia\", \"pin-point pupils\", \"pleuritic pain\", \"pneumatouria\", \n",
    "                 \"polydypsia\", \"polymyalgia\", \"polyuria\", \"poor dentition\", \"poor feeding\", \"posterior rhinorrhea\", \n",
    "                 \"posturing\", \"presence of q wave\", \"pressure chest\", \"previous pregnancies 2\", \"primigravida\", \n",
    "                 \"prodrome\", \"productive cough\", \"projectile vomiting\", \"prostate tender\", \"prostatism\", \n",
    "                 \"proteinemia\", \"pruritus\", \"pulse absent\", \"pulsus paradoxus\", \"pustule\", \"qt interval prolonged\", \n",
    "                 \"r wave feature\", \"rale\", \"rambling speech\", \"rapid shallow breathing\", \"rash\", \"red blotches\", \n",
    "                 \"redness\", \"regurgitates after swallowing\", \"renal angle tenderness\", \"rest pain\", \"retch\", \n",
    "                 \"retropulsion\", \"rhd positive\", \"rhonchus\", \"rigor - temperature-associated observation\", \n",
    "                 \"rolling of eyes\", \"room spinning\", \"satiety early\", \"scar tissue\", \"sciatica\", \"scleral icterus\", \n",
    "                 \"scratch marks\", \"sedentary\", \"seizure\", \"sensory discomfort\", \"shooting pain\", \n",
    "                 \"shortness of breath\", \"side pain\", \"sinus rhythm\", \"sleeplessness\", \"sleepy\", \n",
    "                 \"slowing of urinary stream\", \"sneeze\", \"sniffle\", \"snore\", \"snuffle\", \"soft tissue swelling\", \n",
    "                 \"sore to touch\", \"spasm\", \"speech slurred\", \"splenomegaly\", \"spontaneous rupture of membranes\", \n",
    "                 \"sputum purulent\", \"st segment depression\", \"st segment elevation\", \"stiffness\", \n",
    "                 \"stinging sensation\", \"stool color yellow\", \"stridor\", \"stuffy nose\", \"stupor\", \"suicidal\", \n",
    "                 \"superimposition\", \"sweat\", \"sweating increased\", \"swelling\", \"symptom aggravating factors\", \n",
    "                 \"syncope\", \"systolic ejection murmur\", \"systolic murmur\", \"t wave inverted\", \"tachypnea\", \n",
    "                 \"tenesmus\", \"terrify\", \"thicken\", \"throat sore\", \"throbbing sensation quality\", \"tinnitus\", \n",
    "                 \"tired\", \"titubation\", \"todd paralysis\", \"tonic seizures\", \"transaminitis\", \"transsexual\", \n",
    "                 \"tremor\", \"tremor resting\", \"tumor cell invasion\", \"unable to concentrate\", \"unconscious state\", \n",
    "                 \"uncoordination\", \"underweight\", \"unhappy\", \"unresponsiveness\", \"unsteady gait\", \"unwell\", \n",
    "                 \"urge incontinence\", \"urgency of micturition\", \"urinary hesitation\", \"urinoma\", \n",
    "                 \"verbal auditory hallucinations\", \"verbally abusive behavior\", \"vertigo\", \"vision blurred\", \n",
    "                 \"vomiting\", \"weakness\", \"weepiness\", \"weight gain\", \"welt\", \"wheelchair bound\", \"wheezing\", \n",
    "                 \"withdraw\", \"worry\", \"yellow sputum\"\n",
    "]"
   ]
  },
  {
   "cell_type": "code",
   "execution_count": 23,
   "metadata": {},
   "outputs": [
    {
     "data": {
      "text/plain": [
       "410"
      ]
     },
     "execution_count": 23,
     "metadata": {},
     "output_type": "execute_result"
    }
   ],
   "source": [
    "len(symptoms_list)"
   ]
  },
  {
   "cell_type": "code",
   "execution_count": 35,
   "metadata": {},
   "outputs": [],
   "source": [
    "incomes = [\"anorexia\", \"arthralgia\", \"chills\", \"nausea\",\n",
    "       \"cough\", \"diarrhea\", \"fatigue\", \"fever\", \"vomiting\",\n",
    "       \"headaches\", \"malaise\", \"muscle pain\", \"myalgia\"]"
   ]
  },
  {
   "cell_type": "code",
   "execution_count": 36,
   "metadata": {},
   "outputs": [
    {
     "name": "stdout",
     "output_type": "stream",
     "text": [
      "[0, 0, 0, 0, 0, 0, 0, 0, 0, 0, 0, 0, 0, 0, 0, 0, 0, 0, 0, 0, 0, 0, 1, 0, 0, 0, 1, 0, 0, 0, 0, 0, 0, 0, 0, 0, 0, 0, 0, 0, 0, 0, 0, 0, 0, 0, 0, 0, 0, 0, 0, 0, 0, 0, 0, 0, 0, 0, 0, 0, 0, 1, 0, 0, 0, 0, 0, 0, 0, 0, 0, 0, 1, 0, 0, 0, 0, 0, 0, 0, 0, 0, 1, 0, 0, 0, 0, 0, 0, 0, 0, 0, 0, 0, 0, 0, 0, 0, 0, 0, 0, 0, 0, 0, 0, 0, 0, 0, 0, 0, 0, 0, 0, 0, 0, 0, 1, 0, 0, 0, 0, 0, 0, 0, 1, 0, 0, 0, 0, 0, 0, 0, 0, 0, 0, 0, 0, 0, 0, 0, 0, 0, 0, 0, 0, 0, 0, 0, 0, 0, 0, 0, 0, 1, 0, 0, 0, 0, 0, 0, 0, 0, 0, 0, 0, 0, 0, 0, 0, 0, 0, 0, 0, 0, 0, 0, 0, 0, 0, 0, 0, 0, 0, 0, 0, 0, 0, 0, 0, 0, 0, 0, 0, 0, 0, 0, 0, 0, 0, 0, 0, 0, 0, 0, 0, 0, 0, 0, 0, 0, 0, 0, 0, 0, 0, 0, 0, 0, 1, 0, 0, 0, 0, 0, 0, 0, 0, 0, 0, 0, 0, 0, 1, 0, 1, 0, 0, 0, 0, 1, 0, 0, 0, 0, 0, 0, 0, 0, 0, 0, 0, 0, 0, 0, 0, 0, 0, 0, 0, 0, 0, 0, 0, 0, 0, 0, 0, 0, 0, 0, 0, 0, 0, 0, 0, 0, 0, 0, 0, 0, 0, 0, 0, 0, 0, 0, 0, 0, 0, 0, 0, 0, 0, 0, 0, 0, 0, 0, 0, 0, 0, 0, 0, 0, 0, 0, 0, 0, 0, 0, 0, 0, 0, 0, 0, 0, 0, 0, 0, 0, 0, 0, 0, 0, 0, 0, 0, 0, 0, 0, 0, 0, 0, 0, 0, 0, 0, 0, 0, 0, 0, 0, 0, 0, 0, 0, 0, 0, 0, 0, 0, 0, 0, 0, 0, 0, 0, 0, 0, 0, 0, 0, 0, 0, 0, 0, 0, 0, 0, 0, 0, 0, 0, 0, 0, 0, 0, 0, 0, 0, 0, 0, 0, 0, 0, 0, 0, 0, 0, 0, 0, 0, 0, 0, 0, 0, 0, 0, 0, 0, 1, 0, 0, 0, 0, 0, 0, 0, 0, 0]\n"
     ]
    }
   ],
   "source": [
    "for elm in range(len(incomes)):\n",
    "    ind = symptoms_list.index(incomes[elm])\n",
    "    fin = initial_val[ind] = 1\n",
    "print(initial_val)"
   ]
  },
  {
   "cell_type": "code",
   "execution_count": 33,
   "metadata": {},
   "outputs": [],
   "source": [
    "predict = clf_rf.predict([initial_val])"
   ]
  },
  {
   "cell_type": "code",
   "execution_count": 34,
   "metadata": {},
   "outputs": [
    {
     "name": "stdout",
     "output_type": "stream",
     "text": [
      "['You may have malaria Disease']\n"
     ]
    }
   ],
   "source": [
    "print('You may have '+ predict+ ' Disease')"
   ]
  },
  {
   "cell_type": "code",
   "execution_count": 28,
   "metadata": {},
   "outputs": [],
   "source": [
    "y_pred=clf.predict(X_test)"
   ]
  },
  {
   "cell_type": "code",
   "execution_count": 29,
   "metadata": {},
   "outputs": [
    {
     "data": {
      "text/plain": [
       "array(['malignant neoplasm of lung', 'hypercholesterolemia',\n",
       "       'encephalopathy', 'oral candidiasis', 'failure heart', 'malaria',\n",
       "       \"Alzheimer's disease\", 'confusion', 'bacteremia',\n",
       "       'psychotic disorder', 'pancreatitis', 'thrombocytopaenia',\n",
       "       'diverticulosis', 'suicide attempt', 'thrombus', 'anemia',\n",
       "       'hypertensive disease', 'hernia', 'neoplasm metastasis',\n",
       "       'myocardial infarction', 'hiv infections', 'hernia hiatal',\n",
       "       'gastroenteritis', 'primary carcinoma of the liver cells', 'gout',\n",
       "       'neutropenia', 'carcinoma', 'delirium', 'septicemia',\n",
       "       'typhoid fever', 'cellulitis', 'adenocarcinoma',\n",
       "       'migraine disorders', 'depressive disorder', 'incontinence',\n",
       "       'cholecystitis', 'fibroid tumor', 'diverticulitis',\n",
       "       'hyperglycemia', 'malignant neoplasms', 'malignant tumor of colon',\n",
       "       'embolism pulmonary', 'mitral valve insufficiency',\n",
       "       'hypothyroidism', 'epilepsy'], dtype=object)"
      ]
     },
     "execution_count": 29,
     "metadata": {},
     "output_type": "execute_result"
    }
   ],
   "source": [
    "y_pred"
   ]
  },
  {
   "cell_type": "code",
   "execution_count": 30,
   "metadata": {},
   "outputs": [
    {
     "data": {
      "text/plain": [
       "(105, 105)"
      ]
     },
     "execution_count": 30,
     "metadata": {},
     "output_type": "execute_result"
    }
   ],
   "source": [
    "len(X_train), len(y_train)"
   ]
  }
 ],
 "metadata": {
  "kernelspec": {
   "display_name": "Python 3",
   "language": "python",
   "name": "python3"
  },
  "language_info": {
   "codemirror_mode": {
    "name": "ipython",
    "version": 3
   },
   "file_extension": ".py",
   "mimetype": "text/x-python",
   "name": "python",
   "nbconvert_exporter": "python",
   "pygments_lexer": "ipython3",
   "version": "3.8.5"
  }
 },
 "nbformat": 4,
 "nbformat_minor": 4
}
